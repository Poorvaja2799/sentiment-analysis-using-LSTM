{
 "cells": [
  {
   "cell_type": "code",
   "execution_count": 1,
   "metadata": {},
   "outputs": [],
   "source": [
    "data = []\n",
    "with open('train.txt') as f:\n",
    "    for line in f:\n",
    "        data.append(line)"
   ]
  },
  {
   "cell_type": "code",
   "execution_count": 2,
   "metadata": {},
   "outputs": [],
   "source": [
    "labelled_data = []\n",
    "for line in data:\n",
    "    labelled_data.append(line.split(' ',1))"
   ]
  },
  {
   "cell_type": "code",
   "execution_count": 3,
   "metadata": {},
   "outputs": [],
   "source": [
    "x = []\n",
    "y = []\n",
    "for label,review in labelled_data:\n",
    "    x.append(review)\n",
    "    y.append(label)"
   ]
  },
  {
   "cell_type": "code",
   "execution_count": 4,
   "metadata": {},
   "outputs": [],
   "source": [
    "from nltk.corpus import stopwords\n",
    "stopWords = stopwords.words('english')"
   ]
  },
  {
   "cell_type": "code",
   "execution_count": 5,
   "metadata": {},
   "outputs": [],
   "source": [
    "import re\n",
    "def cleanData(sentence):\n",
    "    sentence = re.sub(r'[^A-Za-z0-9\\s.]',r'',str(sentence).lower())\n",
    "    sentence = re.sub(r'\\n',r' ',sentence)\n",
    "    sentence = re.sub(r'\\.',r'',sentence)\n",
    "    sentence = \" \".join([word for word in sentence.split() if word not in stopWords])    \n",
    "    return sentence"
   ]
  },
  {
   "cell_type": "code",
   "execution_count": 6,
   "metadata": {},
   "outputs": [],
   "source": [
    "data = []\n",
    "for sentence in x:\n",
    "    data.append(cleanData(sentence))"
   ]
  },
  {
   "cell_type": "code",
   "execution_count": 7,
   "metadata": {},
   "outputs": [],
   "source": [
    "import logging\n",
    "import matplotlib\n",
    "logging.basicConfig(format='%(asctime)s : %(levelname)s : %(message)s', level=logging.INFO)\n",
    "%matplotlib inline"
   ]
  },
  {
   "cell_type": "code",
   "execution_count": 8,
   "metadata": {},
   "outputs": [
    {
     "name": "stderr",
     "output_type": "stream",
     "text": [
      "Using TensorFlow backend.\n"
     ]
    }
   ],
   "source": [
    "from keras.layers.recurrent import LSTM\n",
    "from keras.layers.embeddings import Embedding\n",
    "from keras.models import Model, Sequential\n",
    "from keras.layers import Dense, Activation"
   ]
  },
  {
   "cell_type": "code",
   "execution_count": 9,
   "metadata": {},
   "outputs": [],
   "source": [
    "Y_data = []\n",
    "for a in y:\n",
    "    if a == 'negative':\n",
    "        Y_data.append(0)\n",
    "    else:\n",
    "        Y_data.append(1)\n",
    "y = Y_data"
   ]
  },
  {
   "cell_type": "code",
   "execution_count": 10,
   "metadata": {},
   "outputs": [],
   "source": [
    "from sklearn.model_selection import train_test_split\n",
    "X_train, X_test, Y_train, Y_test = train_test_split(data,y, test_size = 0.5, random_state = 42)"
   ]
  },
  {
   "cell_type": "code",
   "execution_count": 11,
   "metadata": {},
   "outputs": [],
   "source": [
    "from keras.preprocessing.text import Tokenizer\n",
    "\n",
    "tokenizer = Tokenizer(num_words=5000)\n",
    "tokenizer.fit_on_texts(X_train)\n",
    "\n",
    "X_train = tokenizer.texts_to_sequences(X_train)\n",
    "X_test = tokenizer.texts_to_sequences(X_test)\n",
    "\n",
    "vocab_size = len(tokenizer.word_index) + 1 "
   ]
  },
  {
   "cell_type": "code",
   "execution_count": 12,
   "metadata": {},
   "outputs": [],
   "source": [
    "from keras.preprocessing.sequence import pad_sequences\n",
    "maxlen = 100\n",
    "X_train = pad_sequences(X_train, padding='post', maxlen=maxlen)\n",
    "X_test = pad_sequences(X_test, padding='post', maxlen=maxlen)"
   ]
  },
  {
   "cell_type": "code",
   "execution_count": 13,
   "metadata": {},
   "outputs": [],
   "source": [
    "import numpy as np\n",
    "\n",
    "def create_embedding_matrix(filepath, word_index, embedding_dim):\n",
    "    vocab_size = len(word_index) + 1 \n",
    "    embedding_matrix = np.zeros((vocab_size, embedding_dim))\n",
    "\n",
    "    with open(filepath) as f:\n",
    "        for line in f:\n",
    "            word, *vector = line.split()\n",
    "            if word in word_index:\n",
    "                idx = word_index[word] \n",
    "                embedding_matrix[idx] = np.array(\n",
    "                    vector, dtype=np.float32)[:embedding_dim]\n",
    "\n",
    "    return embedding_matrix"
   ]
  },
  {
   "cell_type": "code",
   "execution_count": 14,
   "metadata": {},
   "outputs": [],
   "source": [
    "embedding_dim = 50\n",
    "embedding_matrix = create_embedding_matrix('./glove.6B/glove.6B.50d.txt',\n",
    "                                           tokenizer.word_index, embedding_dim)"
   ]
  },
  {
   "cell_type": "code",
   "execution_count": 15,
   "metadata": {},
   "outputs": [
    {
     "data": {
      "text/plain": [
       "0.46066081166607425"
      ]
     },
     "execution_count": 15,
     "metadata": {},
     "output_type": "execute_result"
    }
   ],
   "source": [
    "nonzero_elements = np.count_nonzero(np.count_nonzero(embedding_matrix, axis=1))\n",
    "nonzero_elements / vocab_size"
   ]
  },
  {
   "cell_type": "code",
   "execution_count": 102,
   "metadata": {},
   "outputs": [
    {
     "name": "stdout",
     "output_type": "stream",
     "text": [
      "_________________________________________________________________\n",
      "Layer (type)                 Output Shape              Param #   \n",
      "=================================================================\n",
      "embedding_6 (Embedding)      (None, 100, 50)           5767150   \n",
      "_________________________________________________________________\n",
      "lstm_4 (LSTM)                (None, 50)                20200     \n",
      "_________________________________________________________________\n",
      "dense_7 (Dense)              (None, 10)                510       \n",
      "_________________________________________________________________\n",
      "dense_8 (Dense)              (None, 1)                 11        \n",
      "=================================================================\n",
      "Total params: 5,787,871\n",
      "Trainable params: 20,721\n",
      "Non-trainable params: 5,767,150\n",
      "_________________________________________________________________\n"
     ]
    }
   ],
   "source": [
    "model = Sequential()\n",
    "model.add(Embedding(vocab_size, embedding_dim, \n",
    "                           weights=[embedding_matrix], \n",
    "                           input_length=maxlen, \n",
    "                           trainable=False))\n",
    "model.add(LSTM(units=embedding_dim))\n",
    "model.add(Dense(10, activation='relu'))\n",
    "model.add(Dense(1, activation='sigmoid'))\n",
    "model.compile(optimizer='adam',\n",
    "              loss='binary_crossentropy',\n",
    "              metrics=['accuracy'])\n",
    "model.summary()"
   ]
  },
  {
   "cell_type": "code",
   "execution_count": 104,
   "metadata": {},
   "outputs": [],
   "source": [
    "from keras.callbacks import EarlyStopping\n",
    "es = EarlyStopping(monitor='val_acc', mode='max', verbose=1, patience=5, min_delta=0.1)"
   ]
  },
  {
   "cell_type": "code",
   "execution_count": 105,
   "metadata": {},
   "outputs": [
    {
     "name": "stdout",
     "output_type": "stream",
     "text": [
      "Train on 50000 samples, validate on 50000 samples\n",
      "Epoch 1/10\n",
      "50000/50000 [==============================] - 104s 2ms/step - loss: 0.6908 - acc: 0.5197 - val_loss: 0.6926 - val_acc: 0.5164\n",
      "Epoch 2/10\n",
      "50000/50000 [==============================] - 106s 2ms/step - loss: 0.6928 - acc: 0.5113 - val_loss: 0.6762 - val_acc: 0.6174\n",
      "Epoch 3/10\n",
      "50000/50000 [==============================] - 104s 2ms/step - loss: 0.6898 - acc: 0.5196 - val_loss: 0.6929 - val_acc: 0.5217\n",
      "Epoch 4/10\n",
      "50000/50000 [==============================] - 111s 2ms/step - loss: 0.6156 - acc: 0.6203 - val_loss: 0.4555 - val_acc: 0.7957\n",
      "Epoch 5/10\n",
      "50000/50000 [==============================] - 111s 2ms/step - loss: 0.4214 - acc: 0.8083 - val_loss: 0.4008 - val_acc: 0.8185\n",
      "Epoch 6/10\n",
      "50000/50000 [==============================] - 106s 2ms/step - loss: 0.3855 - acc: 0.8281 - val_loss: 0.3732 - val_acc: 0.8320\n",
      "Epoch 7/10\n",
      "50000/50000 [==============================] - 112s 2ms/step - loss: 0.3632 - acc: 0.8386 - val_loss: 0.3693 - val_acc: 0.8364\n",
      "Epoch 8/10\n",
      "50000/50000 [==============================] - 104s 2ms/step - loss: 0.3482 - acc: 0.8482 - val_loss: 0.3491 - val_acc: 0.8447\n",
      "Epoch 9/10\n",
      "50000/50000 [==============================] - 108s 2ms/step - loss: 0.3334 - acc: 0.8555 - val_loss: 0.3423 - val_acc: 0.8501\n",
      "Epoch 00009: early stopping\n"
     ]
    }
   ],
   "source": [
    "history = model.fit(X_train, Y_train,\n",
    "                    epochs=10,\n",
    "                    verbose=1,\n",
    "                    validation_data=(X_test, Y_test),\n",
    "                    batch_size=64,\n",
    "                    callbacks=[es])"
   ]
  },
  {
   "cell_type": "code",
   "execution_count": 106,
   "metadata": {},
   "outputs": [],
   "source": [
    "prediction = model.predict(X_test)"
   ]
  },
  {
   "cell_type": "code",
   "execution_count": 107,
   "metadata": {},
   "outputs": [],
   "source": [
    "p=[]\n",
    "n=[]\n",
    "for i in range(len(Y_test)):\n",
    "    if Y_test[i]==1:\n",
    "        p.append(float(prediction[i]))\n",
    "    else:\n",
    "        n.append(float(prediction[i]))\n",
    "correct_pos = len([i for i in p if i>0.5])\n",
    "correct_neg = len([i for i in n if i<0.5])"
   ]
  },
  {
   "cell_type": "code",
   "execution_count": 108,
   "metadata": {},
   "outputs": [
    {
     "name": "stdout",
     "output_type": "stream",
     "text": [
      "25820\n",
      "24180\n"
     ]
    }
   ],
   "source": [
    "print(len(p))\n",
    "print(len(n))"
   ]
  },
  {
   "cell_type": "code",
   "execution_count": 109,
   "metadata": {},
   "outputs": [
    {
     "name": "stdout",
     "output_type": "stream",
     "text": [
      "21999\n",
      "20504\n"
     ]
    }
   ],
   "source": [
    "print(correct_pos)\n",
    "print(correct_neg)"
   ]
  },
  {
   "cell_type": "code",
   "execution_count": 110,
   "metadata": {},
   "outputs": [
    {
     "name": "stdout",
     "output_type": "stream",
     "text": [
      "positive 0.977859\n"
     ]
    }
   ],
   "source": [
    "text = ['very informative and gives a good foundation of the subject']\n",
    "score = model.predict(pad_sequences(tokenizer.texts_to_sequences(text), padding='post', maxlen=maxlen))\n",
    "if score>0.5:\n",
    "    print(\"positive %f\" %score)\n",
    "else:\n",
    "    print(\"negative %f\" %score)"
   ]
  },
  {
   "cell_type": "code",
   "execution_count": 111,
   "metadata": {
    "scrolled": true
   },
   "outputs": [
    {
     "name": "stdout",
     "output_type": "stream",
     "text": [
      "50000/50000 [==============================] - 33s 655us/step\n"
     ]
    }
   ],
   "source": [
    "accr = model.evaluate(X_test,Y_test)"
   ]
  },
  {
   "cell_type": "code",
   "execution_count": 114,
   "metadata": {},
   "outputs": [
    {
     "name": "stdout",
     "output_type": "stream",
     "text": [
      "negative 0.010526\n"
     ]
    }
   ],
   "source": [
    "text = ['this is the worst product i have purchased']\n",
    "score = model.predict(pad_sequences(tokenizer.texts_to_sequences(text), padding='post', maxlen=maxlen))\n",
    "if score>0.5:\n",
    "    print(\"positive %f\" %score)\n",
    "else:\n",
    "    print(\"negative %f\" %score)"
   ]
  },
  {
   "cell_type": "code",
   "execution_count": 115,
   "metadata": {},
   "outputs": [
    {
     "name": "stdout",
     "output_type": "stream",
     "text": [
      "positive 0.892258\n"
     ]
    }
   ],
   "source": [
    "text = ['this can be useful']\n",
    "score = model.predict(pad_sequences(tokenizer.texts_to_sequences(text), padding='post', maxlen=maxlen))\n",
    "if score>0.5:\n",
    "    print(\"positive %f\" %score)\n",
    "else:\n",
    "    print(\"negative %f\" %score)"
   ]
  },
  {
   "cell_type": "code",
   "execution_count": 116,
   "metadata": {},
   "outputs": [
    {
     "name": "stdout",
     "output_type": "stream",
     "text": [
      "negative 0.012135\n"
     ]
    }
   ],
   "source": [
    "text = ['i regret buying this product']\n",
    "score = model.predict(pad_sequences(tokenizer.texts_to_sequences(text), padding='post', maxlen=maxlen))\n",
    "if score>0.5:\n",
    "    print(\"positive %f\" %score)\n",
    "else:\n",
    "    print(\"negative %f\" %score)"
   ]
  },
  {
   "cell_type": "code",
   "execution_count": 120,
   "metadata": {},
   "outputs": [
    {
     "name": "stdout",
     "output_type": "stream",
     "text": [
      "negative 0.020627\n"
     ]
    }
   ],
   "source": [
    "text = ['very poor quality']\n",
    "score = model.predict(pad_sequences(tokenizer.texts_to_sequences(text), padding='post', maxlen=maxlen))\n",
    "if score>0.5:\n",
    "    print(\"positive %f\" %score)\n",
    "else:\n",
    "    print(\"negative %f\" %score)"
   ]
  },
  {
   "cell_type": "code",
   "execution_count": 123,
   "metadata": {},
   "outputs": [
    {
     "name": "stdout",
     "output_type": "stream",
     "text": [
      "positive 0.623092\n"
     ]
    }
   ],
   "source": [
    "text = ['the appearance is good']\n",
    "score = model.predict(pad_sequences(tokenizer.texts_to_sequences(text), padding='post', maxlen=maxlen))\n",
    "if score>0.5:\n",
    "    print(\"positive %f\" %score)\n",
    "else:\n",
    "    print(\"negative %f\" %score)"
   ]
  },
  {
   "cell_type": "code",
   "execution_count": 121,
   "metadata": {},
   "outputs": [],
   "source": [
    "model.save('my_model.h5')"
   ]
  },
  {
   "cell_type": "code",
   "execution_count": 124,
   "metadata": {},
   "outputs": [],
   "source": [
    "import pickle\n",
    "\n",
    "# saving\n",
    "with open('tokenizer.pickle', 'wb') as handle:\n",
    "    pickle.dump(tokenizer, handle, protocol=pickle.HIGHEST_PROTOCOL)"
   ]
  },
  {
   "cell_type": "code",
   "execution_count": 128,
   "metadata": {},
   "outputs": [
    {
     "name": "stdout",
     "output_type": "stream",
     "text": [
      "negative 0.107059\n"
     ]
    }
   ],
   "source": [
    "text = ['i am not convinced for buying this product']\n",
    "score = model.predict(pad_sequences(tokenizer.texts_to_sequences(text), padding='post', maxlen=maxlen))\n",
    "if score>0.5:\n",
    "    print(\"positive %f\" %score)\n",
    "else:\n",
    "    print(\"negative %f\" %score)"
   ]
  },
  {
   "cell_type": "code",
   "execution_count": null,
   "metadata": {},
   "outputs": [],
   "source": []
  }
 ],
 "metadata": {
  "kernelspec": {
   "display_name": "Python 3",
   "language": "python",
   "name": "python3"
  },
  "language_info": {
   "codemirror_mode": {
    "name": "ipython",
    "version": 3
   },
   "file_extension": ".py",
   "mimetype": "text/x-python",
   "name": "python",
   "nbconvert_exporter": "python",
   "pygments_lexer": "ipython3",
   "version": "3.7.3"
  }
 },
 "nbformat": 4,
 "nbformat_minor": 2
}
