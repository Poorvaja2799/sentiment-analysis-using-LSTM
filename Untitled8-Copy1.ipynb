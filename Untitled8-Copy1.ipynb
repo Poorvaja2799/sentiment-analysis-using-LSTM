{
 "cells": [
  {
   "cell_type": "code",
   "execution_count": 1,
   "metadata": {},
   "outputs": [],
   "source": [
    "data = []\n",
    "with open('train.ft.txt') as f:\n",
    "    for line in f:\n",
    "        data.append(line)"
   ]
  },
  {
   "cell_type": "code",
   "execution_count": 2,
   "metadata": {},
   "outputs": [],
   "source": [
    "labelled_data = []\n",
    "for line in data:\n",
    "    labelled_data.append(line.split(' ',1))"
   ]
  },
  {
   "cell_type": "code",
   "execution_count": 3,
   "metadata": {},
   "outputs": [],
   "source": [
    "x = []\n",
    "y = []\n",
    "for label,review in labelled_data:\n",
    "    x.append(review)\n",
    "    y.append(label)"
   ]
  },
  {
   "cell_type": "code",
   "execution_count": 4,
   "metadata": {},
   "outputs": [],
   "source": [
    "from nltk.corpus import stopwords\n",
    "stopWords = stopwords.words('english')"
   ]
  },
  {
   "cell_type": "code",
   "execution_count": 5,
   "metadata": {},
   "outputs": [],
   "source": [
    "import re\n",
    "def cleanData(sentence):\n",
    "    sentence = re.sub(r'[^A-Za-z0-9\\s.]',r'',str(sentence).lower())\n",
    "    sentence = re.sub(r'\\n',r' ',sentence)\n",
    "    sentence = re.sub(r'\\.',r'',sentence)\n",
    "    sentence = \" \".join([word for word in sentence.split() if word not in stopWords])    \n",
    "    return sentence"
   ]
  },
  {
   "cell_type": "code",
   "execution_count": 6,
   "metadata": {},
   "outputs": [],
   "source": [
    "data = []\n",
    "for sentence in x:\n",
    "    data.append(cleanData(sentence))"
   ]
  },
  {
   "cell_type": "code",
   "execution_count": 7,
   "metadata": {},
   "outputs": [],
   "source": [
    "import logging\n",
    "import matplotlib\n",
    "logging.basicConfig(format='%(asctime)s : %(levelname)s : %(message)s', level=logging.INFO)\n",
    "%matplotlib inline"
   ]
  },
  {
   "cell_type": "code",
   "execution_count": 8,
   "metadata": {},
   "outputs": [
    {
     "name": "stderr",
     "output_type": "stream",
     "text": [
      "Using TensorFlow backend.\n"
     ]
    }
   ],
   "source": [
    "from keras.layers.recurrent import LSTM\n",
    "from keras.layers.embeddings import Embedding\n",
    "from keras.models import Model, Sequential\n",
    "from keras.layers import Dense, Activation"
   ]
  },
  {
   "cell_type": "code",
   "execution_count": 9,
   "metadata": {},
   "outputs": [],
   "source": [
    "Y_data = []\n",
    "for a in y:\n",
    "    if a == 'negative':\n",
    "        Y_data.append(0)\n",
    "    else:\n",
    "        Y_data.append(1)\n",
    "y = Y_data"
   ]
  },
  {
   "cell_type": "code",
   "execution_count": 31,
   "metadata": {},
   "outputs": [],
   "source": [
    "from sklearn.model_selection import train_test_split\n",
    "X_train, X_test, Y_train, Y_test = train_test_split(data,y, test_size = 0.5, random_state = 42)"
   ]
  },
  {
   "cell_type": "code",
   "execution_count": 32,
   "metadata": {},
   "outputs": [],
   "source": [
    "from keras.preprocessing.text import Tokenizer\n",
    "\n",
    "tokenizer = Tokenizer(num_words=10000)\n",
    "tokenizer.fit_on_texts(X_train)\n",
    "\n",
    "X_train = tokenizer.texts_to_sequences(X_train)\n",
    "X_test = tokenizer.texts_to_sequences(X_test)\n",
    "\n",
    "vocab_size = len(tokenizer.word_index) + 1 "
   ]
  },
  {
   "cell_type": "code",
   "execution_count": 33,
   "metadata": {},
   "outputs": [],
   "source": [
    "from keras.preprocessing.sequence import pad_sequences\n",
    "maxlen = 100\n",
    "X_train = pad_sequences(X_train, padding='post', maxlen=maxlen)\n",
    "X_test = pad_sequences(X_test, padding='post', maxlen=maxlen)"
   ]
  },
  {
   "cell_type": "code",
   "execution_count": 34,
   "metadata": {},
   "outputs": [],
   "source": [
    "import numpy as np\n",
    "\n",
    "def create_embedding_matrix(filepath, word_index, embedding_dim):\n",
    "    vocab_size = len(word_index) + 1 \n",
    "    embedding_matrix = np.zeros((vocab_size, embedding_dim))\n",
    "\n",
    "    with open(filepath) as f:\n",
    "        for line in f:\n",
    "            word, *vector = line.split()\n",
    "            if word in word_index:\n",
    "                idx = word_index[word] \n",
    "                embedding_matrix[idx] = np.array(\n",
    "                    vector, dtype=np.float32)[:embedding_dim]\n",
    "\n",
    "    return embedding_matrix"
   ]
  },
  {
   "cell_type": "code",
   "execution_count": 35,
   "metadata": {},
   "outputs": [],
   "source": [
    "embedding_dim = 50\n",
    "embedding_matrix = create_embedding_matrix('./glove.6B/glove.6B.50d.txt',\n",
    "                                           tokenizer.word_index, embedding_dim)"
   ]
  },
  {
   "cell_type": "code",
   "execution_count": 36,
   "metadata": {},
   "outputs": [
    {
     "data": {
      "text/plain": [
       "0.11402573894802728"
      ]
     },
     "execution_count": 36,
     "metadata": {},
     "output_type": "execute_result"
    }
   ],
   "source": [
    "nonzero_elements = np.count_nonzero(np.count_nonzero(embedding_matrix, axis=1))\n",
    "nonzero_elements / vocab_size"
   ]
  },
  {
   "cell_type": "code",
   "execution_count": 37,
   "metadata": {},
   "outputs": [
    {
     "name": "stdout",
     "output_type": "stream",
     "text": [
      "_________________________________________________________________\n",
      "Layer (type)                 Output Shape              Param #   \n",
      "=================================================================\n",
      "embedding_5 (Embedding)      (None, 100, 50)           70935300  \n",
      "_________________________________________________________________\n",
      "lstm_4 (LSTM)                (None, 50)                20200     \n",
      "_________________________________________________________________\n",
      "dropout_2 (Dropout)          (None, 50)                0         \n",
      "_________________________________________________________________\n",
      "dense_7 (Dense)              (None, 10)                510       \n",
      "_________________________________________________________________\n",
      "dense_8 (Dense)              (None, 1)                 11        \n",
      "=================================================================\n",
      "Total params: 70,956,021\n",
      "Trainable params: 20,721\n",
      "Non-trainable params: 70,935,300\n",
      "_________________________________________________________________\n"
     ]
    }
   ],
   "source": [
    "from keras.layers.core import Dropout\n",
    "model = Sequential()\n",
    "model.add(Embedding(vocab_size, embedding_dim, \n",
    "                           weights=[embedding_matrix], \n",
    "                           input_length=maxlen, \n",
    "                           trainable=False))\n",
    "model.add(LSTM(units=embedding_dim))\n",
    "model.add(Dropout(0.2))\n",
    "model.add(Dense(10, activation='relu'))\n",
    "model.add(Dense(1, activation='sigmoid'))\n",
    "model.compile(optimizer='adam',\n",
    "              loss='binary_crossentropy',\n",
    "              metrics=['accuracy'])\n",
    "model.summary()"
   ]
  },
  {
   "cell_type": "code",
   "execution_count": 38,
   "metadata": {},
   "outputs": [],
   "source": [
    "from keras.callbacks import EarlyStopping\n",
    "es = EarlyStopping(monitor='val_loss', mode='min', verbose=1, patience=1, min_delta=0.0001)"
   ]
  },
  {
   "cell_type": "code",
   "execution_count": 39,
   "metadata": {},
   "outputs": [
    {
     "name": "stdout",
     "output_type": "stream",
     "text": [
      "Train on 900000 samples, validate on 900000 samples\n",
      "Epoch 1/100\n",
      "900000/900000 [==============================] - 1097s 1ms/step - loss: 0.5098 - acc: 0.7162 - val_loss: 0.3458 - val_acc: 0.8495\n",
      "Epoch 2/100\n",
      "900000/900000 [==============================] - 1072s 1ms/step - loss: 0.3107 - acc: 0.8670 - val_loss: 0.2838 - val_acc: 0.8809\n",
      "Epoch 3/100\n",
      "900000/900000 [==============================] - 1064s 1ms/step - loss: 0.2728 - acc: 0.8857 - val_loss: 0.2661 - val_acc: 0.8888\n",
      "Epoch 4/100\n",
      "900000/900000 [==============================] - 1071s 1ms/step - loss: 0.2563 - acc: 0.8938 - val_loss: 0.2520 - val_acc: 0.8950\n",
      "Epoch 5/100\n",
      "900000/900000 [==============================] - 1070s 1ms/step - loss: 0.2462 - acc: 0.8987 - val_loss: 0.2453 - val_acc: 0.8989\n",
      "Epoch 6/100\n",
      "900000/900000 [==============================] - 1065s 1ms/step - loss: 0.2385 - acc: 0.9024 - val_loss: 0.2404 - val_acc: 0.9012\n",
      "Epoch 7/100\n",
      "900000/900000 [==============================] - 1056s 1ms/step - loss: 0.2330 - acc: 0.9052 - val_loss: 0.2374 - val_acc: 0.9029\n",
      "Epoch 8/100\n",
      "900000/900000 [==============================] - 1080s 1ms/step - loss: 0.2285 - acc: 0.9074 - val_loss: 0.2433 - val_acc: 0.8993\n",
      "Epoch 00008: early stopping\n"
     ]
    }
   ],
   "source": [
    "history = model.fit(X_train, Y_train,\n",
    "                    epochs=100,\n",
    "                    verbose=1,\n",
    "                    validation_split=0.5,\n",
    "                    batch_size=64,\n",
    "                    callbacks=[es])"
   ]
  },
  {
   "cell_type": "code",
   "execution_count": 40,
   "metadata": {},
   "outputs": [
    {
     "name": "stdout",
     "output_type": "stream",
     "text": [
      "negative 0.056718\n"
     ]
    }
   ],
   "source": [
    "text = ['i am not convinced for buying this product']\n",
    "score = model.predict(pad_sequences(tokenizer.texts_to_sequences(text), padding='post', maxlen=maxlen))\n",
    "if score>0.5:\n",
    "    print(\"positive %f\" %score)\n",
    "else:\n",
    "    print(\"negative %f\" %score)"
   ]
  },
  {
   "cell_type": "code",
   "execution_count": 42,
   "metadata": {},
   "outputs": [
    {
     "name": "stdout",
     "output_type": "stream",
     "text": [
      "positive 0.785539\n"
     ]
    }
   ],
   "source": [
    "text = ['this is the best product in the market']\n",
    "score = model.predict(pad_sequences(tokenizer.texts_to_sequences(text), padding='post', maxlen=maxlen))\n",
    "if score>0.5:\n",
    "    print(\"positive %f\" %score)\n",
    "else:\n",
    "    print(\"negative %f\" %score)"
   ]
  },
  {
   "cell_type": "code",
   "execution_count": 43,
   "metadata": {},
   "outputs": [
    {
     "name": "stdout",
     "output_type": "stream",
     "text": [
      "negative 0.004176\n"
     ]
    }
   ],
   "source": [
    "text = ['this movie is rubbish']\n",
    "score = model.predict(pad_sequences(tokenizer.texts_to_sequences(text), padding='post', maxlen=maxlen))\n",
    "if score>0.5:\n",
    "    print(\"positive %f\" %score)\n",
    "else:\n",
    "    print(\"negative %f\" %score)"
   ]
  },
  {
   "cell_type": "code",
   "execution_count": 44,
   "metadata": {},
   "outputs": [
    {
     "name": "stdout",
     "output_type": "stream",
     "text": [
      "positive 0.570631\n"
     ]
    }
   ],
   "source": [
    "text = ['productive 3 hours']\n",
    "score = model.predict(pad_sequences(tokenizer.texts_to_sequences(text), padding='post', maxlen=maxlen))\n",
    "if score>0.5:\n",
    "    print(\"positive %f\" %score)\n",
    "else:\n",
    "    print(\"negative %f\" %score)"
   ]
  },
  {
   "cell_type": "code",
   "execution_count": 48,
   "metadata": {},
   "outputs": [
    {
     "name": "stdout",
     "output_type": "stream",
     "text": [
      "_________________________________________________________________\n",
      "Layer (type)                 Output Shape              Param #   \n",
      "=================================================================\n",
      "embedding_7 (Embedding)      (None, 100, 50)           70935300  \n",
      "_________________________________________________________________\n",
      "lstm_6 (LSTM)                (None, 50)                20200     \n",
      "_________________________________________________________________\n",
      "dropout_4 (Dropout)          (None, 50)                0         \n",
      "_________________________________________________________________\n",
      "dense_11 (Dense)             (None, 25)                1275      \n",
      "_________________________________________________________________\n",
      "dense_12 (Dense)             (None, 1)                 26        \n",
      "=================================================================\n",
      "Total params: 70,956,801\n",
      "Trainable params: 21,501\n",
      "Non-trainable params: 70,935,300\n",
      "_________________________________________________________________\n"
     ]
    }
   ],
   "source": [
    "model1 = Sequential()\n",
    "model1.add(Embedding(vocab_size, embedding_dim, \n",
    "                           weights=[embedding_matrix], \n",
    "                           input_length=maxlen, \n",
    "                           trainable=False))\n",
    "model1.add(LSTM(units=embedding_dim))\n",
    "model1.add(Dropout(0.2))\n",
    "model1.add(Dense(25, activation='relu'))\n",
    "model1.add(Dense(1, activation='sigmoid'))\n",
    "model1.compile(optimizer='adam',\n",
    "              loss='binary_crossentropy',\n",
    "              metrics=['accuracy'])\n",
    "model1.summary()"
   ]
  },
  {
   "cell_type": "code",
   "execution_count": 49,
   "metadata": {},
   "outputs": [],
   "source": [
    "es1 = EarlyStopping(monitor='val_loss', mode='min', verbose=1, patience=1, min_delta=0.00001)"
   ]
  },
  {
   "cell_type": "code",
   "execution_count": 50,
   "metadata": {
    "scrolled": false
   },
   "outputs": [
    {
     "name": "stdout",
     "output_type": "stream",
     "text": [
      "Train on 900000 samples, validate on 900000 samples\n",
      "Epoch 1/100\n",
      "900000/900000 [==============================] - 1389s 2ms/step - loss: 0.5046 - acc: 0.6997 - val_loss: 0.3127 - val_acc: 0.8646\n",
      "Epoch 2/100\n",
      "900000/900000 [==============================] - 1027s 1ms/step - loss: 0.2940 - acc: 0.8749 - val_loss: 0.2726 - val_acc: 0.8854\n",
      "Epoch 3/100\n",
      "900000/900000 [==============================] - 1040s 1ms/step - loss: 0.2675 - acc: 0.8884 - val_loss: 0.2590 - val_acc: 0.8922\n",
      "Epoch 4/100\n",
      "900000/900000 [==============================] - 1067s 1ms/step - loss: 0.2543 - acc: 0.8948 - val_loss: 0.2520 - val_acc: 0.8966\n",
      "Epoch 5/100\n",
      "900000/900000 [==============================] - 1069s 1ms/step - loss: 0.2460 - acc: 0.8988 - val_loss: 0.2450 - val_acc: 0.8992\n",
      "Epoch 6/100\n",
      "900000/900000 [==============================] - 1046s 1ms/step - loss: 0.2414 - acc: 0.9008 - val_loss: 0.2420 - val_acc: 0.9002\n",
      "Epoch 7/100\n",
      "900000/900000 [==============================] - 1017s 1ms/step - loss: 0.2363 - acc: 0.9032 - val_loss: 0.2481 - val_acc: 0.8989\n",
      "Epoch 00007: early stopping\n"
     ]
    }
   ],
   "source": [
    "history1 = model1.fit(X_train, Y_train,\n",
    "                    epochs=100,\n",
    "                    verbose=1,\n",
    "                    validation_split=0.5,\n",
    "                    batch_size=64,\n",
    "                    callbacks=[es1])"
   ]
  },
  {
   "cell_type": "code",
   "execution_count": null,
   "metadata": {},
   "outputs": [],
   "source": [
    "text = ['i am not convinced for buying this product']\n",
    "score = model.predict(pad_sequences(tokenizer.texts_to_sequences(text), padding='post', maxlen=maxlen))\n",
    "if score>0.7:\n",
    "    print(\"positive %f\" %(score)*100)\n",
    "else:\n",
    "    if score>0.4:\n",
    "        print(\"neutral\")\n",
    "    else:\n",
    "        print(\"positive %f\" %(1-score))"
   ]
  }
 ],
 "metadata": {
  "kernelspec": {
   "display_name": "Python 3",
   "language": "python",
   "name": "python3"
  },
  "language_info": {
   "codemirror_mode": {
    "name": "ipython",
    "version": 3
   },
   "file_extension": ".py",
   "mimetype": "text/x-python",
   "name": "python",
   "nbconvert_exporter": "python",
   "pygments_lexer": "ipython3",
   "version": "3.7.3"
  }
 },
 "nbformat": 4,
 "nbformat_minor": 2
}
